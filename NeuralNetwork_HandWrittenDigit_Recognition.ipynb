{
 "cells": [
  {
   "cell_type": "markdown",
   "metadata": {},
   "source": [
    "## Imports Configuration"
   ]
  },
  {
   "cell_type": "code",
   "execution_count": 53,
   "metadata": {
    "collapsed": true
   },
   "outputs": [],
   "source": [
    "import numpy as np\n",
    "import random\n",
    "import mnist_loader\n",
    "import collections\n",
    "import scipy\n",
    "from scipy import ndimage, misc\n",
    "import matplotlib.pyplot as plt\n",
    "import gzip\n",
    "import sys\n",
    "\n",
    "try:\n",
    "   import cPickle as cPickle\n",
    "except:\n",
    "   import pickle as cPickle"
   ]
  },
  {
   "cell_type": "markdown",
   "metadata": {},
   "source": [
    "## Download the data set\n",
    "\n",
    "Run the following cell to download the [MNIST dataset for python](http://deeplearning.net/data/mnist/mnist.pkl.gz)."
   ]
  },
  {
   "cell_type": "code",
   "execution_count": 66,
   "metadata": {
    "collapsed": false
   },
   "outputs": [
    {
     "name": "stderr",
     "output_type": "stream",
     "text": [
      "MNIST Dataset: 16.2MB [00:22, 728KB/s]                                         \n"
     ]
    },
    {
     "name": "stdout",
     "output_type": "stream",
     "text": [
      "All files found!\n"
     ]
    }
   ],
   "source": [
    "\"\"\"\n",
    "RUN THIS CELL TO DOWNLOAD THE MNIST DATA SET\n",
    "\"\"\"\n",
    "from urllib.request import urlretrieve\n",
    "from os import access, path, R_OK\n",
    "from os.path import isfile, isdir\n",
    "from tqdm import tqdm\n",
    "import tarfile\n",
    "import gzip\n",
    "import glob\n",
    "\n",
    "FILE_NAME = 'mnist.pkl.gz'\n",
    "FILE_PATH = './data'\n",
    "FILE_REMOTE_URL = 'http://deeplearning.net/data/mnist/mnist.pkl.gz'\n",
    "\n",
    "class DLProgress(tqdm):\n",
    "    last_block = 0\n",
    "\n",
    "    def hook(self, block_num=1, block_size=1, total_size=None):\n",
    "        self.total = total_size\n",
    "        self.update((block_num - self.last_block) * block_size)\n",
    "        self.last_block = block_num\n",
    "     \n",
    "    \n",
    "class DSProgress(object):\n",
    "    \n",
    "    def test_folder_path(self, file_path):\n",
    "        assert file_path is not None,\\\n",
    "        'MNIST data file not set.'\n",
    "        print('All files found!')\n",
    "        \n",
    "    def setup_data_files(self):\n",
    "        if not isfile(FILE_NAME):\n",
    "            with DLProgress(unit='B', unit_scale=True, miniters=1, desc='MNIST Dataset') as pbar:\n",
    "                 urlretrieve(FILE_REMOTE_URL ,FILE_NAME, pbar.hook)\n",
    "\n",
    "        if not isdir(FILE_NAME):\n",
    "            with gzip.open(FILE_NAME, 'rb') as in_file:\n",
    "                s = in_file.read()\n",
    "\n",
    "            # Now store the uncompressed data\n",
    "            FILE_TO_STORE = FILE_NAME[:-3]  # remove the '.gz' from the filename\n",
    "            # store uncompressed file data from 's' variable\n",
    "            with open(FILE_TO_STORE, 'wb') as f:\n",
    "                f.write(s)\n",
    "            self.test_folder_path(FILE_TO_STORE)\n",
    "        else:\n",
    "            print (\"Either file is missing or is not readable\")\n",
    "            \n",
    "dlProg = DSProgress()\n",
    "dlProg.setup_data_files()\n",
    "        "
   ]
  },
  {
   "cell_type": "markdown",
   "metadata": {},
   "source": [
    "## Understanding Our Dataset\n",
    "\n",
    "Our dataset consists of a se of training, validation and test data in `(x,y)` i.e `(digit_image, digit_label)`. For example:\n",
    "```python\n",
    "digit_image = training_data[0][index]\n",
    "digit_label = training_data[1][index]\n",
    "```"
   ]
  },
  {
   "cell_type": "code",
   "execution_count": 84,
   "metadata": {
    "collapsed": false
   },
   "outputs": [
    {
     "name": "stdout",
     "output_type": "stream",
     "text": [
      "Total Samples: 50000\n",
      "Each Label Counts: {0: 4932, 1: 5678, 2: 4968, 3: 5101, 4: 4859, 5: 4506, 6: 4951, 7: 5175, 8: 4842, 9: 4988}\n",
      "First 20 Labels: [5 0 4 1 9 2 1 3 1 4 3 5 3 6 1 7 2 8 6 9]\n",
      "\n",
      "Stats of Sample 300/50000:\n",
      "Image of Sample 300/50000:\n",
      "Image - Min Value: 0.0 Max Value: 0.9921875\n",
      "Image - Shape: (28, 28)\n"
     ]
    },
    {
     "data": {
      "image/png": "[encoded data removed]",
      "text/plain": [
       "<matplotlib.figure.Figure at 0x239a6b61c50>"
      ]
     },
     "metadata": {},
     "output_type": "display_data"
    }
   ],
   "source": [
    "def display_stats(training_data, sample_id):\n",
    "    \"\"\"\n",
    "    Display Stats of the the dataset\n",
    "    \"\"\"\n",
    "    total_samples = len(training_data[0])\n",
    "    sample_image = training_data[0][sample_id]\n",
    "    sample_label = training_data[1][sample_id]\n",
    "    label_names = training_data[1]\n",
    "\n",
    "    print('Total Samples: {}'.format(total_samples))\n",
    "    print('Each Label Counts: {}'.format(dict(zip(*np.unique(training_data[1], return_counts=True)))))\n",
    "    print('First 20 Labels: {}'.format(training_data[1][:20]))\n",
    "    \n",
    "    show_image = sample_image.reshape((28, 28))\n",
    "\n",
    "    print('\\nStats of Sample {0}/{1}:'.format(sample_id, total_samples))\n",
    "    print('Image of Sample {0}/{1}:'.format(sample_id, total_samples))\n",
    "    print('Image - Min Value: {} Max Value: {}'.format(show_image.min(), show_image.max()))\n",
    "    print('Image - Shape: {}'.format(show_image.shape))\n",
    "    #print('Label - Label Id: {} Name: {}'.format(sample_label, label_names[sample_label]))\n",
    "    display_image(training_data, sample_id)\n",
    "# Function to unwrap our data set into training, validation and testing data\n",
    "def unpickle(file):\n",
    "    fo = open(file, 'rb')\n",
    "    dict = cPickle.load(fo,encoding='latin1')\n",
    "    fo.close()\n",
    "    return list(dict)\n",
    "\n",
    "# Function for displaying a training image by it's index in the MNIST set\n",
    "def display_image(training_data, index):\n",
    "    digit_label = training_data[1][index]\n",
    "    # Reshape 784 array into 28x28 image\n",
    "    digit_image = training_data[0][index].reshape([28,28])\n",
    "\n",
    "    plt.title('Training data, index: %d,  Label: %d' % (index, digit_label))\n",
    "    plt.imshow(digit_image, cmap='gray_r')\n",
    "    plt.show()\n",
    "\n",
    "# Retrieve the training, validation and test data\n",
    "training_data, validation_data, test_data = unpickle(\"mnist.pkl\")\n",
    "display_stats(training_data, 300)"
   ]
  },
  {
   "cell_type": "code",
   "execution_count": 99,
   "metadata": {
    "collapsed": false
   },
   "outputs": [
    {
     "name": "stdout",
     "output_type": "stream",
     "text": [
      "Epoch 0 Accuracy: 0.5809\n",
      "Epoch 1 Accuracy: 0.6798\n",
      "Epoch 2 Accuracy: 0.7719\n",
      "Epoch 3 Accuracy: 0.7796\n",
      "Epoch 4 Accuracy: 0.8527\n",
      "Epoch 5 Accuracy: 0.8642\n",
      "Epoch 6 Accuracy: 0.8805\n",
      "Epoch 7 Accuracy: 0.943\n",
      "Epoch 8 Accuracy: 0.9487\n",
      "Epoch 9 Accuracy: 0.9523\n",
      "Epoch 10 Accuracy: 0.9546\n",
      "Epoch 11 Accuracy: 0.9555\n",
      "Epoch 12 Accuracy: 0.9532\n",
      "Epoch 13 Accuracy: 0.9544\n",
      "Epoch 14 Accuracy: 0.9587\n",
      "Epoch 15 Accuracy: 0.9602\n",
      "Epoch 16 Accuracy: 0.958\n",
      "Epoch 17 Accuracy: 0.9593\n",
      "Epoch 18 Accuracy: 0.9598\n",
      "Epoch 19 Accuracy: 0.9598\n",
      "Epoch 20 Accuracy: 0.9614\n",
      "Epoch 21 Accuracy: 0.9604\n",
      "Epoch 22 Accuracy: 0.9609\n",
      "Epoch 23 Accuracy: 0.9598\n",
      "Epoch 24 Accuracy: 0.9604\n",
      "Epoch 25 Accuracy: 0.9608\n",
      "Epoch 26 Accuracy: 0.961\n",
      "Epoch 27 Accuracy: 0.9616\n",
      "Epoch 28 Accuracy: 0.9609\n",
      "Epoch 29 Accuracy: 0.9611\n"
     ]
    }
   ],
   "source": [
    "class Network(object):\n",
    "\n",
    "    def __init__(self, sizes):\n",
    "        self.num_layers = len(sizes)\n",
    "        self.sizes = sizes\n",
    "        self.biases = [np.random.randn(y, 1) for y in sizes[1:]]\n",
    "        self.weights = [np.random.randn(y, x) for x, y in zip(sizes[:-1], sizes[1:])]\n",
    "    def printValues(self):\n",
    "        print(self.weights)\n",
    "        print(self.biases)\n",
    "    \n",
    "    def feedforward(self, a):\n",
    "        #Return the output of the network if \"a\" is input.\n",
    "        for b, w in zip(self.biases, self.weights):\n",
    "            a = self.sigmoid(np.dot(w, a)+b)\n",
    "        return a\n",
    "    \n",
    "    def SGD(self, training_data, epochs, mini_batch_size, learning_rate, test_data=None):\n",
    "        #Train the neural network using mini-batch stochastic gradient descent.  The \"training_data\" is a list of tuples\n",
    "        #\"(x, y)\" representing the (training inputs, desired outputs).  The other non-optional parameters are self-explanatory.\n",
    "        if test_data: \n",
    "            #Get the size of the test data\n",
    "            test_data_size = len(test_data)\n",
    "        #Get size of the training data\n",
    "        training_data_size = len(training_data)\n",
    "        #Iterate training over all epochs\n",
    "        for j in range(epochs):\n",
    "            #Shuffle the Training Data\n",
    "            random.shuffle(training_data)\n",
    "            #Partition it into mini-batches of the appropriate size\n",
    "            mini_batches = [training_data[k:k+mini_batch_size] for k in range(0, training_data_size, mini_batch_size)]\n",
    "            #For each mini_batch apply a single step of gradient descent\n",
    "            for mini_batch in mini_batches:\n",
    "                self.update_mini_batch(mini_batch, learning_rate)\n",
    "            #If \"test_data\" is provided then the network will be evaluated against the test data after each epoch\n",
    "            if test_data:\n",
    "                #Print the partial progress which is useful for tracking progress, but slows things down substantially\n",
    "                accuracy = self.evaluate(test_data)/test_data_size\n",
    "                print (\"Epoch {0} Accuracy: {1}\".format(j, accuracy))\n",
    "            else:\n",
    "                print (\"Epoch {0} Complete\".format(j))\n",
    "                \n",
    "    def update_mini_batch(self, mini_batch, learning_rate):\n",
    "        #Update the network's weights and biases by applying gradient descent using backpropagation to a single mini batch.\n",
    "        nabla_b = [np.zeros(b.shape) for b in self.biases]\n",
    "        nabla_w = [np.zeros(w.shape) for w in self.weights]\n",
    "        #The \"mini_batch\" is a list of tuples \"(x, y). Compute gradients for every training sample in the mini_batch\n",
    "        for x, y in mini_batch:\n",
    "            x= np.reshape(x, (784, 1))\n",
    "            #Do the back propagation\n",
    "            delta_nabla_b, delta_nabla_w = self.backprop(x, y)\n",
    "            nabla_b = [nb+dnb for nb, dnb in zip(nabla_b, delta_nabla_b)]\n",
    "            nabla_w = [nw+dnw for nw, dnw in zip(nabla_w, delta_nabla_w)]\n",
    "        #Update the self.weights and self.biases appropriately.\n",
    "        self.weights = [w-(learning_rate/len(mini_batch))*nw for w, nw in zip(self.weights, nabla_w)]\n",
    "        self.biases = [b-(learning_rate/len(mini_batch))*nb for b, nb in zip(self.biases, nabla_b)]\n",
    "        \n",
    "    def backprop(self, x, y):\n",
    "        #Return a tuple ``(nabla_b, nabla_w)`` representing the gradient for the cost function C_x.  ``nabla_b`` and\n",
    "        #``nabla_w`` are layer-by-layer lists of numpy arrays, similar to ``self.biases`` and ``self.weights``.\n",
    "        nabla_b = [np.zeros(b.shape) for b in self.biases]\n",
    "        nabla_w = [np.zeros(w.shape) for w in self.weights]\n",
    "        # feedforward\n",
    "        activation = x\n",
    "        activations = [x] # list to store all the activations, layer by layer\n",
    "        zs = [] # list to store all the z vectors, layer by layer\n",
    "        for b, w in zip(self.biases, self.weights):\n",
    "            z = np.dot(w, activation)+b\n",
    "            zs.append(z)\n",
    "            activation = self.sigmoid(z)\n",
    "            activations.append(activation)\n",
    "        # backward pass\n",
    "        delta = self.cost_derivative(activations[-1], y) * self.sigmoid_prime(zs[-1])\n",
    "        nabla_b[-1] = delta\n",
    "        nabla_w[-1] = np.dot(delta, activations[-2].transpose())\n",
    "        # Note that the variable l in the loop below is used a little\n",
    "        # differently to the notation in Chapter 2 of the book.  Here,\n",
    "        # l = 1 means the last layer of neurons, l = 2 is the\n",
    "        # second-last layer, and so on.  It's a renumbering of the\n",
    "        # scheme in the book, used here to take advantage of the fact\n",
    "        # that Python can use negative indices in lists.\n",
    "        for l in range(2, self.num_layers):\n",
    "            z = zs[-l]\n",
    "            sp = self.sigmoid_prime(z)\n",
    "            delta = np.dot(self.weights[-l+1].transpose(), delta) * sp\n",
    "            nabla_b[-l] = delta\n",
    "            nabla_w[-l] = np.dot(delta, activations[-l-1].transpose())\n",
    "        return (nabla_b, nabla_w)\n",
    "    \n",
    "    def evaluate(self, test_data):\n",
    "        # Return the number of test inputs for which the neural network outputs the correct result. Note that the neural\n",
    "        # network's output is assumed to be the index of whichever neuron in the final layer has the highest activation.\n",
    "        test_results = [(np.argmax(self.feedforward(x.reshape((784, 1)))), y) for (x, y) in test_data]\n",
    "        return sum(int(x == y) for (x, y) in test_results)\n",
    "\n",
    "    def cost_derivative(self, output_activations, y):\n",
    "        \"\"\"Return the vector of partial derivatives \\partial C_x /\n",
    "        \\partial a for the output activations.\"\"\"\n",
    "        return (output_activations-y)\n",
    "\n",
    "    #### Miscellaneous functions\n",
    "    def sigmoid(self,z):\n",
    "        \"\"\"The sigmoid function.\"\"\"\n",
    "        return 1.0/(1.0+np.exp(-z))\n",
    "\n",
    "    def sigmoid_prime(self,z):\n",
    "        \"\"\"Derivative of the sigmoid function.\"\"\"\n",
    "        return self.sigmoid(z)*(1-self.sigmoid(z))\n",
    "\n",
    "net = Network([784, 100, 10])\n",
    "training_data, validation_data, test_data = mnist_loader.load_data_wrapper()\n",
    "training_input = training_data\n",
    "test_input = test_data\n",
    "net.SGD(training_input, 30, 20, 3, test_data=test_input)\n",
    "#net.printValues()"
   ]
  },
  {
   "cell_type": "code",
   "execution_count": null,
   "metadata": {
    "collapsed": true
   },
   "outputs": [],
   "source": []
  }
 ],
 "metadata": {
  "anaconda-cloud": {},
  "kernelspec": {
   "display_name": "Python [conda root]",
   "language": "python",
   "name": "conda-root-py"
  },
  "language_info": {
   "codemirror_mode": {
    "name": "ipython",
    "version": 3
   },
   "file_extension": ".py",
   "mimetype": "text/x-python",
   "name": "python",
   "nbconvert_exporter": "python",
   "pygments_lexer": "ipython3",
   "version": "3.5.2"
  }
 },
 "nbformat": 4,
 "nbformat_minor": 1
}
